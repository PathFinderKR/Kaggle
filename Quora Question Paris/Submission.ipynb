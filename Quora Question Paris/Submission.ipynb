{
 "cells": [
  {
   "metadata": {},
   "cell_type": "markdown",
   "source": "## Login to Huggingface",
   "id": "58134efe9d6ccdc4"
  },
  {
   "metadata": {},
   "cell_type": "code",
   "outputs": [],
   "execution_count": null,
   "source": [
    "from dotenv import load_dotenv\n",
    "import os\n",
    "from huggingface_hub import login\n",
    "\n",
    "load_dotenv()\n",
    "token = os.getenv(\"HUGGINGFACE_TOKEN\")\n",
    "login(\n",
    "    token=token, # ADD YOUR TOKEN HERE\n",
    "    add_to_git_credential=True\n",
    ")"
   ],
   "id": "6911aca72612790b"
  },
  {
   "metadata": {},
   "cell_type": "markdown",
   "source": "## Imports",
   "id": "7805609c9e4d7e8f"
  },
  {
   "metadata": {
    "ExecuteTime": {
     "end_time": "2024-04-15T08:07:51.124727Z",
     "start_time": "2024-04-15T08:07:48.948277Z"
    }
   },
   "cell_type": "code",
   "source": [
    "# pytorch\n",
    "import torch\n",
    "\n",
    "# huggingface\n",
    "from transformers import (\n",
    "    AutoTokenizer,\n",
    "    AutoModelForSequenceClassification\n",
    ")\n",
    "\n",
    "# datasets\n",
    "import pandas as pd\n",
    "from datasets import Dataset"
   ],
   "id": "c0f3886c17307e8d",
   "outputs": [],
   "execution_count": 1
  },
  {
   "metadata": {},
   "cell_type": "markdown",
   "source": "## Device",
   "id": "f166462c8fb9fae7"
  },
  {
   "metadata": {
    "ExecuteTime": {
     "end_time": "2024-04-15T08:07:51.226634Z",
     "start_time": "2024-04-15T08:07:51.126008Z"
    }
   },
   "cell_type": "code",
   "source": [
    "device = (\n",
    "    \"cuda:0\" if torch.cuda.is_available() else # Nvidia GPU\n",
    "    \"mps\" if torch.backends.mps.is_available() else # Apple Silicon GPU\n",
    "    \"cpu\"\n",
    ")\n",
    "print(f\"Device = {device}\")"
   ],
   "id": "8267ff11e9b0621f",
   "outputs": [
    {
     "name": "stdout",
     "output_type": "stream",
     "text": [
      "Device = cuda:0\n"
     ]
    }
   ],
   "execution_count": 2
  },
  {
   "metadata": {},
   "cell_type": "markdown",
   "source": "## Hyperparameters",
   "id": "d327d6c50b69c48b"
  },
  {
   "metadata": {
    "ExecuteTime": {
     "end_time": "2024-04-15T08:07:52.807368Z",
     "start_time": "2024-04-15T08:07:52.805001Z"
    }
   },
   "cell_type": "code",
   "source": [
    "# seed\n",
    "seed=42\n",
    "\n",
    "# Tokenizer arguments\n",
    "max_length=64\n",
    "padding=\"max_length\"\n",
    "truncation=True\n",
    "\n",
    "# mixed precision\n",
    "dtype=torch.float32"
   ],
   "id": "1448e4de522dcf9c",
   "outputs": [],
   "execution_count": 3
  },
  {
   "metadata": {},
   "cell_type": "markdown",
   "source": "## Model",
   "id": "1fdc5d903ac23ac3"
  },
  {
   "metadata": {},
   "cell_type": "code",
   "outputs": [],
   "execution_count": null,
   "source": "model_id = \"PathFinderKR/bert-finetuned-uncased-QQP\"",
   "id": "9877420fa31a56b2"
  },
  {
   "metadata": {},
   "cell_type": "code",
   "outputs": [],
   "execution_count": null,
   "source": [
    "tokenizer = AutoTokenizer.from_pretrained(model_id)\n",
    "model = AutoModelForSequenceClassification.from_pretrained(\n",
    "    model_id,\n",
    "    num_labels=2,\n",
    "    device_map=device,\n",
    "    #attn_implementation=\"flash_attention_2\", # not supported\n",
    "    torch_dtype=dtype\n",
    ")"
   ],
   "id": "285f8d182bce412f"
  },
  {
   "metadata": {},
   "cell_type": "code",
   "outputs": [],
   "execution_count": null,
   "source": "model",
   "id": "de535bee38440760"
  },
  {
   "metadata": {},
   "cell_type": "markdown",
   "source": "## Dataset",
   "id": "27841c337c277d53"
  },
  {
   "metadata": {
    "ExecuteTime": {
     "end_time": "2024-04-15T08:07:57.001576Z",
     "start_time": "2024-04-15T08:07:56.999073Z"
    }
   },
   "cell_type": "code",
   "source": [
    "# Dataset Path\n",
    "dataset_path = \"data/\""
   ],
   "id": "57c4e7e22c7d405c",
   "outputs": [],
   "execution_count": 4
  },
  {
   "metadata": {
    "ExecuteTime": {
     "end_time": "2024-04-15T08:08:06.196521Z",
     "start_time": "2024-04-15T08:07:57.839627Z"
    }
   },
   "cell_type": "code",
   "source": [
    "# Load the test dataset\n",
    "test_df = pd.read_csv(dataset_path + \"test.csv\")\n",
    "# convert dataframe into huggingface dataset\n",
    "raw_test_dataset = Dataset.from_pandas(test_df)"
   ],
   "id": "ef00d4378aa8d491",
   "outputs": [],
   "execution_count": 5
  },
  {
   "metadata": {},
   "cell_type": "code",
   "outputs": [],
   "execution_count": null,
   "source": [
    "# tokenize the questions\n",
    "def tokenize_test_questions(example):\n",
    "    return tokenizer(example[\"question1\"], example[\"question2\"], max_length=max_length, padding=padding,\n",
    "                     truncation=truncation)\n",
    "tokenized_test_dataset = raw_test_dataset.map(tokenize_test_questions, batched=True)"
   ],
   "id": "c88efac56a98d7ac"
  },
  {
   "metadata": {},
   "cell_type": "markdown",
   "source": "## Submission",
   "id": "55d80cbe0dd83c1c"
  },
  {
   "metadata": {
    "ExecuteTime": {
     "end_time": "2024-04-15T08:08:11.611971Z",
     "start_time": "2024-04-15T08:08:11.390968Z"
    }
   },
   "cell_type": "code",
   "source": [
    "# Load the Submission dataset\n",
    "submission_df = pd.read_csv(dataset_path + \"sample_submission.csv\")"
   ],
   "id": "a0c2e8f174b35145",
   "outputs": [],
   "execution_count": 6
  },
  {
   "metadata": {},
   "cell_type": "code",
   "outputs": [],
   "execution_count": null,
   "source": [
    "def predict(question1, question2):\n",
    "    inputs = tokenizer(question1, question2, return_tensors=\"pt\")\n",
    "    inputs = {name: tensor.to(model.device) for name, tensor in inputs.items()}\n",
    "    outputs = model(**inputs)\n",
    "    logits = outputs.logits\n",
    "    probabilities = torch.nn.functional.softmax(logits, dim=-1)\n",
    "    return {\n",
    "        \"probabilities\": probabilities.detach().cpu().numpy(),\n",
    "        \"is_duplicate\": bool(torch.argmax(probabilities) == 1)\n",
    "    }"
   ],
   "id": "1dd2df96bf60afe"
  },
  {
   "metadata": {},
   "cell_type": "code",
   "outputs": [],
   "execution_count": null,
   "source": [
    "# Inference the test dataset and save the submission to sample_submission.csv\n",
    "submission_df[\"is_duplicate\"] = [\n",
    "    predict(question1, question2)[\"is_duplicate\"]\n",
    "    for question1, question2 in zip(test_df[\"question1\"], test_df[\"question2\"])\n",
    "]"
   ],
   "id": "3c2a9c8b941a14d4"
  },
  {
   "metadata": {},
   "cell_type": "code",
   "outputs": [],
   "execution_count": null,
   "source": [
    "# Save the submission\n",
    "submission_df.to_csv(\"submission.csv\", index=False)"
   ],
   "id": "1e22361d6ce1ec23"
  }
 ],
 "metadata": {
  "kernelspec": {
   "display_name": "Python 3",
   "language": "python",
   "name": "python3"
  },
  "language_info": {
   "codemirror_mode": {
    "name": "ipython",
    "version": 2
   },
   "file_extension": ".py",
   "mimetype": "text/x-python",
   "name": "python",
   "nbconvert_exporter": "python",
   "pygments_lexer": "ipython2",
   "version": "2.7.6"
  }
 },
 "nbformat": 4,
 "nbformat_minor": 5
}
